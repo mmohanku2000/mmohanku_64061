{
  "cells": [
    {
      "cell_type": "markdown",
      "id": "ab659160",
      "metadata": {
        "id": "ab659160"
      },
      "source": [
        "#### Assignment 2\n",
        "#### Name: Madhulika Mohankumar\n",
        "#### Advanced Machine Learning\n"
      ]
    },
    {
      "cell_type": "code",
      "execution_count": 1,
      "id": "0ed4b517",
      "metadata": {
        "id": "0ed4b517",
        "colab": {
          "base_uri": "https://localhost:8080/"
        },
        "outputId": "8cc4f0b0-4ead-4010-f1b2-8bd2ee2672d8"
      },
      "outputs": [
        {
          "output_type": "stream",
          "name": "stdout",
          "text": [
            "Downloading data from https://storage.googleapis.com/tensorflow/tf-keras-datasets/imdb.npz\n",
            "\u001b[1m17464789/17464789\u001b[0m \u001b[32m━━━━━━━━━━━━━━━━━━━━\u001b[0m\u001b[37m\u001b[0m \u001b[1m0s\u001b[0m 0us/step\n"
          ]
        }
      ],
      "source": [
        "from tensorflow.keras.datasets import imdb\n",
        "(imdb_train_data, imdb_train_labels), (imdb_test_data, imdb_test_labels) = imdb.load_data(\n",
        "    num_words=10000)"
      ]
    },
    {
      "cell_type": "code",
      "execution_count": 2,
      "id": "44d40145",
      "metadata": {
        "colab": {
          "base_uri": "https://localhost:8080/"
        },
        "id": "44d40145",
        "outputId": "8156aa61-5549-4854-fcb5-98876e7e4f77"
      },
      "outputs": [
        {
          "output_type": "execute_result",
          "data": {
            "text/plain": [
              "1"
            ]
          },
          "metadata": {},
          "execution_count": 2
        }
      ],
      "source": [
        "imdb_train_labels[0]"
      ]
    },
    {
      "cell_type": "code",
      "execution_count": 3,
      "id": "d0b5ef8f",
      "metadata": {
        "colab": {
          "base_uri": "https://localhost:8080/"
        },
        "id": "d0b5ef8f",
        "outputId": "8796de86-a616-4e2c-9f98-d13a962dd17d"
      },
      "outputs": [
        {
          "output_type": "execute_result",
          "data": {
            "text/plain": [
              "9999"
            ]
          },
          "metadata": {},
          "execution_count": 3
        }
      ],
      "source": [
        "max([max(sequence) for sequence in imdb_train_data])\n",
        "###############################################################"
      ]
    },
    {
      "cell_type": "code",
      "execution_count": 4,
      "id": "cde664d8",
      "metadata": {
        "id": "cde664d8",
        "colab": {
          "base_uri": "https://localhost:8080/"
        },
        "outputId": "a9439083-1f21-4c5a-ce81-2ea3db2e372f"
      },
      "outputs": [
        {
          "output_type": "stream",
          "name": "stdout",
          "text": [
            "Downloading data from https://storage.googleapis.com/tensorflow/tf-keras-datasets/imdb_word_index.json\n",
            "\u001b[1m1641221/1641221\u001b[0m \u001b[32m━━━━━━━━━━━━━━━━━━━━\u001b[0m\u001b[37m\u001b[0m \u001b[1m0s\u001b[0m 0us/step\n"
          ]
        }
      ],
      "source": [
        "k_word_index = imdb.get_word_index()\n",
        "k_reverse_word_index = dict(\n",
        "    [(value, key) for (key, value) in k_word_index.items()])\n",
        "decoded_review = \" \".join(\n",
        "    [k_reverse_word_index.get(i - 3, \"?\") for i in imdb_train_data[0]])\n",
        "###############################################################"
      ]
    },
    {
      "cell_type": "code",
      "execution_count": 5,
      "id": "e4240138",
      "metadata": {
        "id": "e4240138"
      },
      "outputs": [],
      "source": [
        "import numpy as np\n",
        "def vectorize_sequences(sequences, dimension=10000):\n",
        "    results = np.zeros((len(sequences), dimension))\n",
        "    for i, sequence in enumerate(sequences):\n",
        "        for j in sequence:\n",
        "            results[i, j] = 1.\n",
        "    return results\n",
        "k_x_train = vectorize_sequences(imdb_train_data)\n",
        "k_x_test = vectorize_sequences(imdb_test_data)"
      ]
    },
    {
      "cell_type": "code",
      "execution_count": 6,
      "id": "f5b78735",
      "metadata": {
        "colab": {
          "base_uri": "https://localhost:8080/"
        },
        "id": "f5b78735",
        "outputId": "3e000320-1e22-4aa8-af18-35d138a0fa3e"
      },
      "outputs": [
        {
          "output_type": "execute_result",
          "data": {
            "text/plain": [
              "array([0., 1., 1., ..., 0., 0., 0.])"
            ]
          },
          "metadata": {},
          "execution_count": 6
        }
      ],
      "source": [
        "k_x_train[0]\n",
        "###############################################################"
      ]
    },
    {
      "cell_type": "code",
      "execution_count": 7,
      "id": "1e3aac2e",
      "metadata": {
        "id": "1e3aac2e"
      },
      "outputs": [],
      "source": [
        "k_y_train = np.asarray(imdb_train_labels).astype(\"float32\")\n",
        "k_y_test = np.asarray(imdb_test_labels).astype(\"float32\")"
      ]
    },
    {
      "cell_type": "code",
      "execution_count": 8,
      "id": "dffe8ff8",
      "metadata": {
        "id": "dffe8ff8"
      },
      "outputs": [],
      "source": [
        "from tensorflow import keras\n",
        "from tensorflow.keras import layers\n",
        "\n",
        "model = keras.Sequential([\n",
        "    layers.Dense(32, activation=\"tanh\"),\n",
        "    layers.Dense(32, activation=\"tanh\"),\n",
        "    layers.Dense(32, activation=\"tanh\"),\n",
        "    layers.Dense(1, activation=\"sigmoid\")\n",
        "])"
      ]
    },
    {
      "cell_type": "code",
      "execution_count": 9,
      "id": "2a208143",
      "metadata": {
        "id": "2a208143"
      },
      "outputs": [],
      "source": [
        "model.compile(optimizer=\"adam\",\n",
        "              loss=\"mean_squared_error\",\n",
        "              metrics=[\"accuracy\"])\n",
        "###############################################################"
      ]
    },
    {
      "cell_type": "markdown",
      "id": "c6854f06",
      "metadata": {
        "id": "c6854f06"
      },
      "source": [
        "### Validating the approach"
      ]
    },
    {
      "cell_type": "code",
      "execution_count": 10,
      "id": "8b490187",
      "metadata": {
        "id": "8b490187"
      },
      "outputs": [],
      "source": [
        "x_val = k_x_train[:10000]\n",
        "partial_x_train = k_x_train[10000:]\n",
        "y_val = k_y_train[:10000]\n",
        "partial_y_train = k_y_train[10000:]"
      ]
    },
    {
      "cell_type": "code",
      "execution_count": 11,
      "id": "edb1f363",
      "metadata": {
        "colab": {
          "base_uri": "https://localhost:8080/"
        },
        "id": "edb1f363",
        "outputId": "e8774333-ebef-492e-9cfa-e30eb398ee55"
      },
      "outputs": [
        {
          "output_type": "stream",
          "name": "stdout",
          "text": [
            "Epoch 1/20\n",
            "\u001b[1m59/59\u001b[0m \u001b[32m━━━━━━━━━━━━━━━━━━━━\u001b[0m\u001b[37m\u001b[0m \u001b[1m4s\u001b[0m 45ms/step - accuracy: 0.7696 - loss: 0.1612 - val_accuracy: 0.8849 - val_loss: 0.0846\n",
            "Epoch 2/20\n",
            "\u001b[1m59/59\u001b[0m \u001b[32m━━━━━━━━━━━━━━━━━━━━\u001b[0m\u001b[37m\u001b[0m \u001b[1m4s\u001b[0m 34ms/step - accuracy: 0.9391 - loss: 0.0479 - val_accuracy: 0.8801 - val_loss: 0.0910\n",
            "Epoch 3/20\n",
            "\u001b[1m59/59\u001b[0m \u001b[32m━━━━━━━━━━━━━━━━━━━━\u001b[0m\u001b[37m\u001b[0m \u001b[1m2s\u001b[0m 32ms/step - accuracy: 0.9710 - loss: 0.0262 - val_accuracy: 0.8741 - val_loss: 0.1015\n",
            "Epoch 4/20\n",
            "\u001b[1m59/59\u001b[0m \u001b[32m━━━━━━━━━━━━━━━━━━━━\u001b[0m\u001b[37m\u001b[0m \u001b[1m4s\u001b[0m 57ms/step - accuracy: 0.9766 - loss: 0.0221 - val_accuracy: 0.8719 - val_loss: 0.1067\n",
            "Epoch 5/20\n",
            "\u001b[1m59/59\u001b[0m \u001b[32m━━━━━━━━━━━━━━━━━━━━\u001b[0m\u001b[37m\u001b[0m \u001b[1m2s\u001b[0m 30ms/step - accuracy: 0.9785 - loss: 0.0193 - val_accuracy: 0.8704 - val_loss: 0.1101\n",
            "Epoch 6/20\n",
            "\u001b[1m59/59\u001b[0m \u001b[32m━━━━━━━━━━━━━━━━━━━━\u001b[0m\u001b[37m\u001b[0m \u001b[1m3s\u001b[0m 30ms/step - accuracy: 0.9793 - loss: 0.0184 - val_accuracy: 0.8724 - val_loss: 0.1113\n",
            "Epoch 7/20\n",
            "\u001b[1m59/59\u001b[0m \u001b[32m━━━━━━━━━━━━━━━━━━━━\u001b[0m\u001b[37m\u001b[0m \u001b[1m2s\u001b[0m 31ms/step - accuracy: 0.9849 - loss: 0.0144 - val_accuracy: 0.8710 - val_loss: 0.1142\n",
            "Epoch 8/20\n",
            "\u001b[1m59/59\u001b[0m \u001b[32m━━━━━━━━━━━━━━━━━━━━\u001b[0m\u001b[37m\u001b[0m \u001b[1m2s\u001b[0m 31ms/step - accuracy: 0.9858 - loss: 0.0136 - val_accuracy: 0.8671 - val_loss: 0.1183\n",
            "Epoch 9/20\n",
            "\u001b[1m59/59\u001b[0m \u001b[32m━━━━━━━━━━━━━━━━━━━━\u001b[0m\u001b[37m\u001b[0m \u001b[1m2s\u001b[0m 40ms/step - accuracy: 0.9879 - loss: 0.0116 - val_accuracy: 0.8661 - val_loss: 0.1201\n",
            "Epoch 10/20\n",
            "\u001b[1m59/59\u001b[0m \u001b[32m━━━━━━━━━━━━━━━━━━━━\u001b[0m\u001b[37m\u001b[0m \u001b[1m3s\u001b[0m 43ms/step - accuracy: 0.9867 - loss: 0.0128 - val_accuracy: 0.8616 - val_loss: 0.1251\n",
            "Epoch 11/20\n",
            "\u001b[1m59/59\u001b[0m \u001b[32m━━━━━━━━━━━━━━━━━━━━\u001b[0m\u001b[37m\u001b[0m \u001b[1m1s\u001b[0m 24ms/step - accuracy: 0.9825 - loss: 0.0157 - val_accuracy: 0.8610 - val_loss: 0.1271\n",
            "Epoch 12/20\n",
            "\u001b[1m59/59\u001b[0m \u001b[32m━━━━━━━━━━━━━━━━━━━━\u001b[0m\u001b[37m\u001b[0m \u001b[1m3s\u001b[0m 27ms/step - accuracy: 0.9834 - loss: 0.0151 - val_accuracy: 0.8654 - val_loss: 0.1227\n",
            "Epoch 13/20\n",
            "\u001b[1m59/59\u001b[0m \u001b[32m━━━━━━━━━━━━━━━━━━━━\u001b[0m\u001b[37m\u001b[0m \u001b[1m2s\u001b[0m 29ms/step - accuracy: 0.9809 - loss: 0.0168 - val_accuracy: 0.8630 - val_loss: 0.1238\n",
            "Epoch 14/20\n",
            "\u001b[1m59/59\u001b[0m \u001b[32m━━━━━━━━━━━━━━━━━━━━\u001b[0m\u001b[37m\u001b[0m \u001b[1m1s\u001b[0m 24ms/step - accuracy: 0.9857 - loss: 0.0135 - val_accuracy: 0.8587 - val_loss: 0.1296\n",
            "Epoch 15/20\n",
            "\u001b[1m59/59\u001b[0m \u001b[32m━━━━━━━━━━━━━━━━━━━━\u001b[0m\u001b[37m\u001b[0m \u001b[1m1s\u001b[0m 24ms/step - accuracy: 0.9878 - loss: 0.0116 - val_accuracy: 0.8650 - val_loss: 0.1244\n",
            "Epoch 16/20\n",
            "\u001b[1m59/59\u001b[0m \u001b[32m━━━━━━━━━━━━━━━━━━━━\u001b[0m\u001b[37m\u001b[0m \u001b[1m2s\u001b[0m 33ms/step - accuracy: 0.9891 - loss: 0.0109 - val_accuracy: 0.8640 - val_loss: 0.1253\n",
            "Epoch 17/20\n",
            "\u001b[1m59/59\u001b[0m \u001b[32m━━━━━━━━━━━━━━━━━━━━\u001b[0m\u001b[37m\u001b[0m \u001b[1m3s\u001b[0m 51ms/step - accuracy: 0.9896 - loss: 0.0103 - val_accuracy: 0.8577 - val_loss: 0.1303\n",
            "Epoch 18/20\n",
            "\u001b[1m59/59\u001b[0m \u001b[32m━━━━━━━━━━━━━━━━━━━━\u001b[0m\u001b[37m\u001b[0m \u001b[1m2s\u001b[0m 33ms/step - accuracy: 0.9900 - loss: 0.0096 - val_accuracy: 0.8630 - val_loss: 0.1277\n",
            "Epoch 19/20\n",
            "\u001b[1m59/59\u001b[0m \u001b[32m━━━━━━━━━━━━━━━━━━━━\u001b[0m\u001b[37m\u001b[0m \u001b[1m2s\u001b[0m 30ms/step - accuracy: 0.9895 - loss: 0.0100 - val_accuracy: 0.8652 - val_loss: 0.1266\n",
            "Epoch 20/20\n",
            "\u001b[1m59/59\u001b[0m \u001b[32m━━━━━━━━━━━━━━━━━━━━\u001b[0m\u001b[37m\u001b[0m \u001b[1m2s\u001b[0m 24ms/step - accuracy: 0.9896 - loss: 0.0105 - val_accuracy: 0.8616 - val_loss: 0.1287\n"
          ]
        }
      ],
      "source": [
        "## model planned to train with 20 epoch with batch size of 256\n",
        "\n",
        "history = model.fit(partial_x_train,\n",
        "                    partial_y_train,\n",
        "                    epochs=20,\n",
        "                    batch_size=256,\n",
        "                    validation_data=(x_val, y_val))"
      ]
    },
    {
      "cell_type": "code",
      "execution_count": 12,
      "id": "52cb1367",
      "metadata": {
        "colab": {
          "base_uri": "https://localhost:8080/"
        },
        "id": "52cb1367",
        "outputId": "7e9d29c0-7999-4ff5-b292-2f1e1374a924"
      },
      "outputs": [
        {
          "output_type": "execute_result",
          "data": {
            "text/plain": [
              "dict_keys(['accuracy', 'loss', 'val_accuracy', 'val_loss'])"
            ]
          },
          "metadata": {},
          "execution_count": 12
        }
      ],
      "source": [
        "k_history_dict = history.history\n",
        "k_history_dict.keys()"
      ]
    },
    {
      "cell_type": "markdown",
      "id": "97761377",
      "metadata": {
        "id": "97761377"
      },
      "source": [
        "### Plotting the train & Validation loss"
      ]
    },
    {
      "cell_type": "code",
      "execution_count": 13,
      "id": "7947e3a4",
      "metadata": {
        "colab": {
          "base_uri": "https://localhost:8080/",
          "height": 472
        },
        "id": "7947e3a4",
        "outputId": "16e84e62-1439-48ba-b3fc-325002085d6e"
      },
      "outputs": [
        {
          "output_type": "display_data",
          "data": {
            "text/plain": [
              "<Figure size 640x480 with 1 Axes>"
            ],
            "image/png": "[encoded data removed]"
          },
          "metadata": {}
        }
      ],
      "source": [
        "import matplotlib.pyplot as plt\n",
        "k_history_dict = history.history\n",
        "loss_values = k_history_dict[\"loss\"]\n",
        "val_loss_values = k_history_dict[\"val_loss\"]\n",
        "epochs = range(1, len(loss_values) + 1)\n",
        "plt.plot(epochs, loss_values, \"bo\", label=\"Training loss\")\n",
        "plt.plot(epochs, val_loss_values, \"b\", label=\"Validation loss\")\n",
        "plt.title(\"Training and validation loss\")\n",
        "plt.xlabel(\"Epochs\")\n",
        "plt.ylabel(\"Loss\")\n",
        "plt.legend()\n",
        "plt.show()"
      ]
    },
    {
      "cell_type": "markdown",
      "id": "81b8bca0",
      "metadata": {
        "id": "81b8bca0"
      },
      "source": [
        "**Plotting the training and validation accuracy**"
      ]
    },
    {
      "cell_type": "code",
      "execution_count": 14,
      "id": "f8cf4f21",
      "metadata": {
        "colab": {
          "base_uri": "https://localhost:8080/",
          "height": 472
        },
        "id": "f8cf4f21",
        "outputId": "40dbb2fa-3fcf-4ce4-ef6a-6309467567bd"
      },
      "outputs": [
        {
          "output_type": "display_data",
          "data": {
            "text/plain": [
              "<Figure size 640x480 with 1 Axes>"
            ],
            "image/png": "[encoded data removed]"
          },
          "metadata": {}
        }
      ],
      "source": [
        "plt.clf()\n",
        "acc = k_history_dict[\"accuracy\"]\n",
        "val_acc = k_history_dict[\"val_accuracy\"]\n",
        "plt.plot(epochs, acc, \"bo\", label=\"Training acc\")\n",
        "plt.plot(epochs, val_acc, \"b\", label=\"Validation acc\")\n",
        "plt.title(\"Training and validation accuracy\")\n",
        "plt.xlabel(\"Epochs\")\n",
        "plt.ylabel(\"Accuracy\")\n",
        "plt.legend()\n",
        "plt.show()"
      ]
    },
    {
      "cell_type": "code",
      "execution_count": 15,
      "id": "06ad0219",
      "metadata": {
        "colab": {
          "base_uri": "https://localhost:8080/"
        },
        "id": "06ad0219",
        "outputId": "a7d8795b-7632-49d1-c0c3-7fe8980bc59b"
      },
      "outputs": [
        {
          "output_type": "stream",
          "name": "stdout",
          "text": [
            "\u001b[1m782/782\u001b[0m \u001b[32m━━━━━━━━━━━━━━━━━━━━\u001b[0m\u001b[37m\u001b[0m \u001b[1m3s\u001b[0m 3ms/step - accuracy: 0.8465 - loss: 0.1434\n"
          ]
        }
      ],
      "source": [
        "results = model.evaluate(k_x_test, k_y_test)"
      ]
    },
    {
      "cell_type": "code",
      "execution_count": 16,
      "id": "22190590",
      "metadata": {
        "colab": {
          "base_uri": "https://localhost:8080/"
        },
        "id": "22190590",
        "outputId": "528f8001-f2ad-4a7c-e734-5f4e9f048a31"
      },
      "outputs": [
        {
          "output_type": "execute_result",
          "data": {
            "text/plain": [
              "[0.14186759293079376, 0.8478400111198425]"
            ]
          },
          "metadata": {},
          "execution_count": 16
        }
      ],
      "source": [
        "results"
      ]
    },
    {
      "cell_type": "markdown",
      "id": "b7abf977",
      "metadata": {
        "id": "b7abf977"
      },
      "source": [
        "#### Combining all code together along with dropout layer"
      ]
    },
    {
      "cell_type": "code",
      "execution_count": 17,
      "id": "1d4a7121",
      "metadata": {
        "colab": {
          "base_uri": "https://localhost:8080/",
          "height": 1000
        },
        "id": "1d4a7121",
        "outputId": "555eef12-548a-41ab-b865-f0a6718a1cf4"
      },
      "outputs": [
        {
          "output_type": "stream",
          "name": "stdout",
          "text": [
            "Epoch 1/20\n",
            "\u001b[1m59/59\u001b[0m \u001b[32m━━━━━━━━━━━━━━━━━━━━\u001b[0m\u001b[37m\u001b[0m \u001b[1m5s\u001b[0m 55ms/step - accuracy: 0.5191 - loss: 4.1404 - val_accuracy: 0.5534 - val_loss: 1.7921\n",
            "Epoch 2/20\n",
            "\u001b[1m59/59\u001b[0m \u001b[32m━━━━━━━━━━━━━━━━━━━━\u001b[0m\u001b[37m\u001b[0m \u001b[1m2s\u001b[0m 34ms/step - accuracy: 0.5438 - loss: 1.9001 - val_accuracy: 0.6115 - val_loss: 1.2262\n",
            "Epoch 3/20\n",
            "\u001b[1m59/59\u001b[0m \u001b[32m━━━━━━━━━━━━━━━━━━━━\u001b[0m\u001b[37m\u001b[0m \u001b[1m2s\u001b[0m 35ms/step - accuracy: 0.6022 - loss: 1.2143 - val_accuracy: 0.7139 - val_loss: 0.9070\n",
            "Epoch 4/20\n",
            "\u001b[1m59/59\u001b[0m \u001b[32m━━━━━━━━━━━━━━━━━━━━\u001b[0m\u001b[37m\u001b[0m \u001b[1m2s\u001b[0m 33ms/step - accuracy: 0.6962 - loss: 0.8685 - val_accuracy: 0.8228 - val_loss: 0.6761\n",
            "Epoch 5/20\n",
            "\u001b[1m59/59\u001b[0m \u001b[32m━━━━━━━━━━━━━━━━━━━━\u001b[0m\u001b[37m\u001b[0m \u001b[1m3s\u001b[0m 33ms/step - accuracy: 0.8227 - loss: 0.6314 - val_accuracy: 0.8673 - val_loss: 0.4711\n",
            "Epoch 6/20\n",
            "\u001b[1m59/59\u001b[0m \u001b[32m━━━━━━━━━━━━━━━━━━━━\u001b[0m\u001b[37m\u001b[0m \u001b[1m3s\u001b[0m 39ms/step - accuracy: 0.8930 - loss: 0.4303 - val_accuracy: 0.8805 - val_loss: 0.3162\n",
            "Epoch 7/20\n",
            "\u001b[1m59/59\u001b[0m \u001b[32m━━━━━━━━━━━━━━━━━━━━\u001b[0m\u001b[37m\u001b[0m \u001b[1m2s\u001b[0m 26ms/step - accuracy: 0.9243 - loss: 0.2794 - val_accuracy: 0.8793 - val_loss: 0.2176\n",
            "Epoch 8/20\n",
            "\u001b[1m59/59\u001b[0m \u001b[32m━━━━━━━━━━━━━━━━━━━━\u001b[0m\u001b[37m\u001b[0m \u001b[1m2s\u001b[0m 26ms/step - accuracy: 0.9468 - loss: 0.1831 - val_accuracy: 0.8830 - val_loss: 0.1630\n",
            "Epoch 9/20\n",
            "\u001b[1m59/59\u001b[0m \u001b[32m━━━━━━━━━━━━━━━━━━━━\u001b[0m\u001b[37m\u001b[0m \u001b[1m2s\u001b[0m 29ms/step - accuracy: 0.9556 - loss: 0.1301 - val_accuracy: 0.8847 - val_loss: 0.1393\n",
            "Epoch 10/20\n",
            "\u001b[1m59/59\u001b[0m \u001b[32m━━━━━━━━━━━━━━━━━━━━\u001b[0m\u001b[37m\u001b[0m \u001b[1m1s\u001b[0m 24ms/step - accuracy: 0.9594 - loss: 0.1069 - val_accuracy: 0.8763 - val_loss: 0.1320\n",
            "Epoch 11/20\n",
            "\u001b[1m59/59\u001b[0m \u001b[32m━━━━━━━━━━━━━━━━━━━━\u001b[0m\u001b[37m\u001b[0m \u001b[1m1s\u001b[0m 25ms/step - accuracy: 0.9639 - loss: 0.0924 - val_accuracy: 0.8821 - val_loss: 0.1249\n",
            "Epoch 12/20\n",
            "\u001b[1m59/59\u001b[0m \u001b[32m━━━━━━━━━━━━━━━━━━━━\u001b[0m\u001b[37m\u001b[0m \u001b[1m3s\u001b[0m 35ms/step - accuracy: 0.9716 - loss: 0.0816 - val_accuracy: 0.8772 - val_loss: 0.1232\n",
            "Epoch 13/20\n",
            "\u001b[1m59/59\u001b[0m \u001b[32m━━━━━━━━━━━━━━━━━━━━\u001b[0m\u001b[37m\u001b[0m \u001b[1m3s\u001b[0m 41ms/step - accuracy: 0.9753 - loss: 0.0749 - val_accuracy: 0.8772 - val_loss: 0.1194\n",
            "Epoch 14/20\n",
            "\u001b[1m59/59\u001b[0m \u001b[32m━━━━━━━━━━━━━━━━━━━━\u001b[0m\u001b[37m\u001b[0m \u001b[1m2s\u001b[0m 30ms/step - accuracy: 0.9779 - loss: 0.0691 - val_accuracy: 0.8758 - val_loss: 0.1186\n",
            "Epoch 15/20\n",
            "\u001b[1m59/59\u001b[0m \u001b[32m━━━━━━━━━━━━━━━━━━━━\u001b[0m\u001b[37m\u001b[0m \u001b[1m2s\u001b[0m 30ms/step - accuracy: 0.9806 - loss: 0.0638 - val_accuracy: 0.8727 - val_loss: 0.1206\n",
            "Epoch 16/20\n",
            "\u001b[1m59/59\u001b[0m \u001b[32m━━━━━━━━━━━━━━━━━━━━\u001b[0m\u001b[37m\u001b[0m \u001b[1m2s\u001b[0m 31ms/step - accuracy: 0.9818 - loss: 0.0599 - val_accuracy: 0.8719 - val_loss: 0.1198\n",
            "Epoch 17/20\n",
            "\u001b[1m59/59\u001b[0m \u001b[32m━━━━━━━━━━━━━━━━━━━━\u001b[0m\u001b[37m\u001b[0m \u001b[1m2s\u001b[0m 31ms/step - accuracy: 0.9867 - loss: 0.0552 - val_accuracy: 0.8719 - val_loss: 0.1176\n",
            "Epoch 18/20\n",
            "\u001b[1m59/59\u001b[0m \u001b[32m━━━━━━━━━━━━━━━━━━━━\u001b[0m\u001b[37m\u001b[0m \u001b[1m2s\u001b[0m 30ms/step - accuracy: 0.9872 - loss: 0.0509 - val_accuracy: 0.8697 - val_loss: 0.1186\n",
            "Epoch 19/20\n",
            "\u001b[1m59/59\u001b[0m \u001b[32m━━━━━━━━━━━━━━━━━━━━\u001b[0m\u001b[37m\u001b[0m \u001b[1m3s\u001b[0m 38ms/step - accuracy: 0.9887 - loss: 0.0487 - val_accuracy: 0.8694 - val_loss: 0.1201\n",
            "Epoch 20/20\n",
            "\u001b[1m59/59\u001b[0m \u001b[32m━━━━━━━━━━━━━━━━━━━━\u001b[0m\u001b[37m\u001b[0m \u001b[1m2s\u001b[0m 29ms/step - accuracy: 0.9909 - loss: 0.0447 - val_accuracy: 0.8680 - val_loss: 0.1184\n"
          ]
        },
        {
          "output_type": "display_data",
          "data": {
            "text/plain": [
              "<Figure size 640x480 with 1 Axes>"
            ],
            "image/png": "[encoded data removed]"
          },
          "metadata": {}
        },
        {
          "output_type": "stream",
          "name": "stdout",
          "text": [
            "\u001b[1m782/782\u001b[0m \u001b[32m━━━━━━━━━━━━━━━━━━━━\u001b[0m\u001b[37m\u001b[0m \u001b[1m2s\u001b[0m 2ms/step - accuracy: 0.8498 - loss: 0.1242\n"
          ]
        },
        {
          "output_type": "execute_result",
          "data": {
            "text/plain": [
              "[0.1222953200340271, 0.8532000184059143]"
            ]
          },
          "metadata": {},
          "execution_count": 17
        }
      ],
      "source": [
        "## Libraries required for setting up an environment\n",
        "\n",
        "#####################################\n",
        "from tensorflow import keras\n",
        "from tensorflow.keras import layers\n",
        "from keras.layers import Dense\n",
        "from keras.layers import Dropout\n",
        "from tensorflow.keras import regularizers\n",
        "#####################################\n",
        "\n",
        "# Neural network implementation using 3 layered approach with a single dropout layer\n",
        "#######################################\n",
        "model = keras.Sequential()\n",
        "model.add(Dense(32,activation='tanh'))\n",
        "model.add(Dropout(0.5))\n",
        "#kernel_regularizer=regularizers.L1(0.01), activity_regularizer=regularizers.L2(0.01))\n",
        "model.add(Dense(32,activation='tanh',kernel_regularizer=regularizers.L1(0.01), activity_regularizer=regularizers.L2(0.01)))\n",
        "model.add(Dropout(0.5))\n",
        "model.add(Dense(32,activation='tanh'))\n",
        "model.add(Dense(1, activation='sigmoid'))\n",
        "########################################\n",
        "\n",
        "# Here for compilation we used optimizer \"adagrad\", mean squared error loss and accuracy metrics\n",
        "########################################\n",
        "model.compile(optimizer=\"adam\",\n",
        "              loss=\"mean_squared_error\",\n",
        "              metrics=[\"accuracy\"])\n",
        "########################################\n",
        "\n",
        "## splitting the data\n",
        "#######################################\n",
        "x_val = k_x_train[:10000]\n",
        "partial_x_train = k_x_train[10000:]\n",
        "y_val = k_y_train[:10000]\n",
        "partial_y_train = k_y_train[10000:]\n",
        "#######################################\n",
        "\n",
        "# Train a neural network\n",
        "#####################################################\n",
        "history = model.fit(partial_x_train,\n",
        "                    partial_y_train,\n",
        "                    epochs=20,\n",
        "                    batch_size=256,\n",
        "                    validation_data=(x_val, y_val))\n",
        "#####################################################\n",
        "\n",
        "# plotting the Training and Validation accuracy\n",
        "####################################################\n",
        "plt.clf()\n",
        "acc = k_history_dict[\"accuracy\"]\n",
        "val_acc = k_history_dict[\"val_accuracy\"]\n",
        "plt.plot(epochs, acc, \"bo\", label=\"Training acc\")\n",
        "plt.plot(epochs, val_acc, \"b\", label=\"Validation acc\")\n",
        "plt.title(\"Training and validation accuracy\")\n",
        "plt.xlabel(\"Epochs\")\n",
        "plt.ylabel(\"Accuracy\")\n",
        "plt.legend()\n",
        "plt.show()\n",
        "####################################################\n",
        "\n",
        "\n",
        "# Evaluating the results\n",
        "results = model.evaluate(k_x_test, k_y_test)\n",
        "results\n"
      ]
    },
    {
      "cell_type": "markdown",
      "id": "fbce14bc",
      "metadata": {
        "id": "fbce14bc"
      },
      "source": [
        "#### Summary about the three-layered neural network for IMDB data:\n",
        "•\tFirst we collected necessary additional libraries for our corresponding neural network to be in right process. From my understanding and insignificant research I have come to the conclusion that TensorFlow enjoys good support and implementations just like other dependencies such pytroch.\n",
        "\n",
        "List of Imports are:\n",
        "\n",
        "from tensorflow import keras  \n",
        "from tensorflow.keras import layers\n",
        "from keras.layers import Dense\n",
        "from keras.layers import Dropout\n",
        "\n",
        "•\tto that end, we import keras, keras.layers, Dense layer and Dropouts. On its own, each of them is really considerable in the aspect of the implementation process. Keras is the high-level API of TensorFlow 2: an easy to use yet highly effective application for solving all sorts of machine learning issues, with the emphasis on current deep learning. Keras’ principal component data structures are layers and models. There is a simple kind of model called Sequential which is a linear vertical stack of more complex sub-models. Dense stands for the count of the hidden layer nodes in the neural structure. Dropout: The meaning of dropout is to disconnect the input in bunch or hidden layer input. We are going to design the neural network layers now. model = keras.Sequential() #The most basic mode in keras is called serial model, and the layers are stacked sequentially. model.add(Dense(32,activation=’tanh’)) Stacking layers is very easy by the way of.add Additionally, the increases in number of hidden units equals to 32 and the activation function used is tanh. That being the case, I will proceed to the next topic of what is in a neural network.\n",
        "\n",
        "1.\tInput layer -- where we provide our input to it. – here we provide vector representation of IMDB data\n",
        "2.\tHidden layers – it contains the number of dense units, and we can stack up as many layers as we want depending on the requirement.\n",
        "3.\tOutput layer – output layer, Preferably the output layer has 1 dense unit.\n",
        "Here in this task I tried to implement three layered approach as per the requirement given in the assignment.\n",
        "   model = keras.Sequential([\n",
        "    layers.Dense(32, activation=\"tanh\"),\n",
        "    layers.Dense(32, activation=\"tanh\"),\n",
        "    layers.Dense(32, activation=\"tanh\"),\n",
        "    layers.Dense(1, activation=\"sigmoid\")\n",
        "])\n",
        "\n",
        "The above code model was initiated as serial. We stack three layers, each of 32 dense units and the activation function we use is tanh. In the task, I so as keep it simple, I replaced relu with tanh as recommended by the assignment.\n",
        "\n",
        "model.compile(optimizer=\"adagrad\", loss=\"mean_squared_error\", metrics=[\"accuracy\"])\n",
        "\n",
        "In the above piece of code we have used an optimizer as adagrad with mse loss. I have one concern here initially IMBD data uses a loss of binary_crossentrophy which is a probabilistic loss but what if we changed the regression loss. Further details are provided in the second source link.\n",
        "\n",
        "In the above piece of code we have used an optimizer as adagrad with mse loss. I have one concern here initially IMBD data uses a loss of binary_crossentrophy which is a probabilistic loss but what if we changed the regression loss. Further details are provided in the second source link.\n",
        "\n",
        "We split the data into training and validation part and the code below shows the split:\n",
        "\n",
        "x_val = k_x_train[:10000]\n",
        "partial_x_train = k_x_train[10000:]\n",
        "y_val = k_y_train[:10000]\n",
        "partial_y_train = k_y_train[10000:]\n",
        "Training the data\n",
        "history = model.fit(partial_x_train,\n",
        "                    partial_y_train,\n",
        "                    epochs=20,\n",
        "                    batch_size=256,\n",
        "                    validation_data=(x_val, y_val))\n",
        "                    \n",
        "The above line of code represent it will train the neural network with 20 epoch and batch size of 256 and parallely it compare with validation data.\n",
        "I used L1 and L2 regularizers but it does not gives much impact on the total validation accuracy.\n",
        "\n",
        "\n",
        "   \n",
        "\n",
        "        \n",
        "Reference:\n",
        "1.\thttps://keras.io/about\n",
        "2.\thttps://keras.io/api/losses/\n",
        "3.\thttps://keras.io/api/optimizers/\n"
      ]
    },
    {
      "cell_type": "code",
      "execution_count": null,
      "id": "e394a160",
      "metadata": {
        "id": "e394a160"
      },
      "outputs": [],
      "source": []
    },
    {
      "cell_type": "markdown",
      "id": "1040099d",
      "metadata": {
        "id": "1040099d"
      },
      "source": [
        "## Conclusions\n",
        "\n",
        "##### 1. neural network designed with  3 layers\n",
        "##### 2. Activation functions tanh is used instead of relu\n",
        "##### 3. Optimizer adam is used instead of rmsprop\n",
        "##### 4. L1 & L2 regularizers are used\n",
        "##### 4. Dropout layer with 0.5 is used. That means we are dropping 50 percent of inputs during the training.\n",
        "\n",
        "### Final accuracy of 99.19 and validation accuracy of 86.9 is achieved using the above changes..\n",
        "\n"
      ]
    },
    {
      "cell_type": "code",
      "execution_count": null,
      "id": "96d9cd77",
      "metadata": {
        "id": "96d9cd77"
      },
      "outputs": [],
      "source": []
    },
    {
      "cell_type": "code",
      "execution_count": null,
      "id": "5b9c2783",
      "metadata": {
        "id": "5b9c2783"
      },
      "outputs": [],
      "source": []
    }
  ],
  "metadata": {
    "kernelspec": {
      "display_name": "Python 3 (ipykernel)",
      "language": "python",
      "name": "python3"
    },
    "language_info": {
      "codemirror_mode": {
        "name": "ipython",
        "version": 3
      },
      "file_extension": ".py",
      "mimetype": "text/x-python",
      "name": "python",
      "nbconvert_exporter": "python",
      "pygments_lexer": "ipython3",
      "version": "3.9.12"
    },
    "colab": {
      "provenance": []
    }
  },
  "nbformat": 4,
  "nbformat_minor": 5
}